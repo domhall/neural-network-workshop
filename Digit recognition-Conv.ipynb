{
 "cells": [
  {
   "cell_type": "code",
   "execution_count": 2,
   "metadata": {},
   "outputs": [],
   "source": [
    "# A lot of code here is simplified and sourced from https://nextjournal.com/gkoehler/digit-recognition-with-keras"
   ]
  },
  {
   "cell_type": "code",
   "execution_count": 3,
   "metadata": {},
   "outputs": [],
   "source": [
    "%matplotlib inline\n",
    "# %matplotlib ipympl\n",
    "import matplotlib.pyplot as plt\n",
    "plt.rcParams[\"figure.figsize\"]=8,8\n",
    "\n",
    "import numpy as np\n",
    "from keras.utils import np_utils"
   ]
  },
  {
   "cell_type": "code",
   "execution_count": 4,
   "metadata": {},
   "outputs": [],
   "source": [
    "from keras.datasets import mnist\n",
    "\n",
    "from keras.models import Sequential, load_model\n",
    "from keras.layers.core import Dense, Activation, Dropout, Flatten\n",
    "from keras.layers.convolutional import Conv2D, MaxPooling2D\n",
    "\n",
    "import tensorflow as tf"
   ]
  },
  {
   "cell_type": "code",
   "execution_count": 5,
   "metadata": {},
   "outputs": [],
   "source": [
    "(X_train, y_train), (X_test, y_test) = mnist.load_data()"
   ]
  },
  {
   "cell_type": "code",
   "execution_count": 6,
   "metadata": {},
   "outputs": [
    {
     "data": {
      "image/png": "[encoded data removed]",
      "text/plain": [
       "<Figure size 576x576 with 9 Axes>"
      ]
     },
     "metadata": {},
     "output_type": "display_data"
    }
   ],
   "source": [
    "fig = plt.figure()\n",
    "for i in range(9):\n",
    "  plt.subplot(3,3,i+1)\n",
    "  plt.tight_layout()\n",
    "  plt.imshow(X_train[i], cmap='gray', interpolation='none')\n",
    "  plt.title(\"Lable: {}\".format(y_train[i]))\n",
    "  plt.xticks([])\n",
    "  plt.yticks([])"
   ]
  },
  {
   "cell_type": "code",
   "execution_count": 7,
   "metadata": {},
   "outputs": [
    {
     "data": {
      "text/plain": [
       "(60000, 28, 28)"
      ]
     },
     "execution_count": 7,
     "metadata": {},
     "output_type": "execute_result"
    }
   ],
   "source": [
    "X_train.shape"
   ]
  },
  {
   "cell_type": "code",
   "execution_count": 8,
   "metadata": {},
   "outputs": [],
   "source": [
    "X_train = X_train.astype('float32')\n",
    "X_test = X_test.astype('float32')"
   ]
  },
  {
   "cell_type": "code",
   "execution_count": null,
   "metadata": {},
   "outputs": [],
   "source": []
  },
  {
   "cell_type": "code",
   "execution_count": 9,
   "metadata": {},
   "outputs": [
    {
     "data": {
      "text/plain": [
       "255.0"
      ]
     },
     "execution_count": 9,
     "metadata": {},
     "output_type": "execute_result"
    }
   ],
   "source": [
    "# 255 Channels so a range of 255 for black to white\n",
    "np.amax(X_train) - np.amin(X_train)"
   ]
  },
  {
   "cell_type": "code",
   "execution_count": 10,
   "metadata": {},
   "outputs": [
    {
     "data": {
      "text/plain": [
       "1.0"
      ]
     },
     "execution_count": 10,
     "metadata": {},
     "output_type": "execute_result"
    }
   ],
   "source": [
    "# We normalise to get x between 0 and 1\n",
    "X_train_norma = X_train / 255\n",
    "X_train_norm = np.expand_dims(X_train_norma, axis=3)\n",
    "X_test_norma = X_test / 255\n",
    "X_test_norm = np.expand_dims(X_test_norma, axis=3)\n",
    "np.amax(X_train_norm) - np.amin(X_train_norm)"
   ]
  },
  {
   "cell_type": "code",
   "execution_count": 11,
   "metadata": {},
   "outputs": [
    {
     "data": {
      "text/plain": [
       "Text(0, 0.5, 'Density')"
      ]
     },
     "execution_count": 11,
     "metadata": {},
     "output_type": "execute_result"
    },
    {
     "data": {
      "image/png": "[encoded data removed]",
      "text/plain": [
       "<Figure size 576x576 with 1 Axes>"
      ]
     },
     "metadata": {
      "needs_background": "light"
     },
     "output_type": "display_data"
    }
   ],
   "source": [
    "# Distribution of Pixel Values\n",
    "plt.hist(X_train_norm.flatten(), bins = (50))\n",
    "plt.xlabel('Colour Intensity')\n",
    "plt.ylabel('Density')"
   ]
  },
  {
   "cell_type": "code",
   "execution_count": 12,
   "metadata": {},
   "outputs": [
    {
     "name": "stdout",
     "output_type": "stream",
     "text": [
      "4\n",
      "[0. 0. 0. 0. 1. 0. 0. 0. 0. 0.]\n",
      "[0, 1, 2, 3, 4, 5, 6, 7, 8, 9]\n"
     ]
    }
   ],
   "source": [
    "# Training values into catogories\n",
    "\n",
    "n_classes = 10\n",
    "print(y_train[2])\n",
    "y_train_norm = np_utils.to_categorical(y_train, n_classes)\n",
    "y_test_norm = np_utils.to_categorical(y_test, n_classes)\n",
    "print(y_train_norm[2])\n",
    "print([0,1,2,3,4,5,6,7,8,9])"
   ]
  },
  {
   "cell_type": "code",
   "execution_count": 13,
   "metadata": {},
   "outputs": [],
   "source": [
    "model = Sequential()\n",
    "\n",
    "model.add(Conv2D(10, (3, 3), input_shape=(28, 28, 1), activation='relu', name=\"conv\"))\n",
    "model.add(MaxPooling2D(pool_size=(2, 2)))\n",
    "model.add(Dropout(0.2))\n",
    "model.add(Flatten())\n",
    "\n",
    "\n",
    "model.add(Dense(30, activation=\"relu\", name=\"1\"))\n",
    "\n",
    "# Convert from 10 numbers into relative probability (So total probability of each digit = 1)\n",
    "model.add(Dense(10, activation=\"softmax\"))"
   ]
  },
  {
   "cell_type": "code",
   "execution_count": 14,
   "metadata": {},
   "outputs": [
    {
     "data": {
      "text/plain": [
       "(10000, 10)"
      ]
     },
     "execution_count": 14,
     "metadata": {},
     "output_type": "execute_result"
    }
   ],
   "source": [
    "X_test_norm[0].shape\n",
    "y_test_norm.shape"
   ]
  },
  {
   "cell_type": "code",
   "execution_count": 15,
   "metadata": {},
   "outputs": [],
   "source": [
    "model.compile(loss='categorical_crossentropy', metrics=['accuracy'], optimizer='adam')"
   ]
  },
  {
   "cell_type": "code",
   "execution_count": 16,
   "metadata": {},
   "outputs": [
    {
     "name": "stdout",
     "output_type": "stream",
     "text": [
      "Epoch 1/10\n",
      "938/938 - 11s - loss: 0.3503 - accuracy: 0.8974 - val_loss: 0.1641 - val_accuracy: 0.9508\n",
      "Epoch 2/10\n",
      "938/938 - 10s - loss: 0.1580 - accuracy: 0.9519 - val_loss: 0.1038 - val_accuracy: 0.9684\n",
      "Epoch 3/10\n",
      "938/938 - 10s - loss: 0.1109 - accuracy: 0.9669 - val_loss: 0.0778 - val_accuracy: 0.9763\n",
      "Epoch 4/10\n",
      "938/938 - 10s - loss: 0.0896 - accuracy: 0.9726 - val_loss: 0.0693 - val_accuracy: 0.9765\n",
      "Epoch 5/10\n",
      "938/938 - 10s - loss: 0.0751 - accuracy: 0.9767 - val_loss: 0.0562 - val_accuracy: 0.9810\n",
      "Epoch 6/10\n",
      "938/938 - 11s - loss: 0.0664 - accuracy: 0.9792 - val_loss: 0.0570 - val_accuracy: 0.9815\n",
      "Epoch 7/10\n",
      "938/938 - 11s - loss: 0.0581 - accuracy: 0.9825 - val_loss: 0.0528 - val_accuracy: 0.9840\n",
      "Epoch 8/10\n",
      "938/938 - 14s - loss: 0.0532 - accuracy: 0.9832 - val_loss: 0.0508 - val_accuracy: 0.9832\n",
      "Epoch 9/10\n",
      "938/938 - 12s - loss: 0.0482 - accuracy: 0.9846 - val_loss: 0.0453 - val_accuracy: 0.9848\n",
      "Epoch 10/10\n",
      "938/938 - 11s - loss: 0.0434 - accuracy: 0.9864 - val_loss: 0.0470 - val_accuracy: 0.9852\n"
     ]
    }
   ],
   "source": [
    "history = model.fit(X_train_norm, y_train_norm,\n",
    "          batch_size=64, epochs=10,\n",
    "          verbose=2,\n",
    "          validation_data=(X_test_norm, y_test_norm))"
   ]
  },
  {
   "cell_type": "code",
   "execution_count": 17,
   "metadata": {},
   "outputs": [
    {
     "name": "stdout",
     "output_type": "stream",
     "text": [
      "Training Loss: 0.043395351618528366\n",
      "Training Accuracy: 0.9863666892051697\n"
     ]
    }
   ],
   "source": [
    "print(\"Training Loss:\", history.history['loss'][-1])\n",
    "print(\"Training Accuracy:\", history.history['accuracy'][-1])"
   ]
  },
  {
   "cell_type": "code",
   "execution_count": 18,
   "metadata": {},
   "outputs": [
    {
     "name": "stdout",
     "output_type": "stream",
     "text": [
      "313/313 [==============================] - 1s 4ms/step - loss: 0.0470 - accuracy: 0.9852\n",
      "Test Accuracy: 0.9851999878883362\n"
     ]
    }
   ],
   "source": [
    "print(\"Test Accuracy:\", model.evaluate(X_test_norm, y_test_norm)[1])"
   ]
  },
  {
   "cell_type": "code",
   "execution_count": 19,
   "metadata": {
    "scrolled": false
   },
   "outputs": [
    {
     "data": {
      "image/png": "[encoded data removed]",
      "text/plain": [
       "<Figure size 576x576 with 9 Axes>"
      ]
     },
     "metadata": {},
     "output_type": "display_data"
    }
   ],
   "source": [
    "y_pred = model.predict(X_test_norm)\n",
    "\n",
    "\n",
    "fig = plt.figure()\n",
    "for i in range(8,17):\n",
    "  plt.subplot(3,3,i+1 - 8)\n",
    "  plt.tight_layout()\n",
    "  plt.imshow(X_test[i], cmap='hot', interpolation='none')\n",
    "  plt.title(\"Pred: {} True: {}\".format(np.argmax(y_pred[i]), y_test[i]))\n",
    "  plt.xticks([])\n",
    "  plt.yticks([])"
   ]
  },
  {
   "cell_type": "code",
   "execution_count": 22,
   "metadata": {},
   "outputs": [
    {
     "data": {
      "text/plain": [
       "<matplotlib.colorbar.Colorbar at 0x7f3d301bd7b8>"
      ]
     },
     "execution_count": 22,
     "metadata": {},
     "output_type": "execute_result"
    },
    {
     "data": {
      "image/png": "[encoded data removed]",
      "text/plain": [
       "<Figure size 576x576 with 2 Axes>"
      ]
     },
     "metadata": {
      "needs_background": "light"
     },
     "output_type": "display_data"
    }
   ],
   "source": [
    "heatmap = np.zeros([7,19])\n",
    "weights_layer = model.get_layer(\"conv\").get_weights()[0]\n",
    "for x in range(2):\n",
    "    for y in range(5):\n",
    "        if x + y < 10:\n",
    "            index = y + 5 * x\n",
    "            heatmap[x*4:x*4+3, y*4:y*4+3] = weights_layer[:, :, 0, x * 5 + y]\n",
    "        \n",
    "plt.imshow(heatmap, cmap='RdYlGn')\n",
    "plt.colorbar()"
   ]
  },
  {
   "cell_type": "code",
   "execution_count": null,
   "metadata": {},
   "outputs": [],
   "source": []
  },
  {
   "cell_type": "code",
   "execution_count": null,
   "metadata": {},
   "outputs": [],
   "source": []
  }
 ],
 "metadata": {
  "kernelspec": {
   "display_name": "Python 3",
   "language": "python",
   "name": "python3"
  },
  "language_info": {
   "codemirror_mode": {
    "name": "ipython",
    "version": 3
   },
   "file_extension": ".py",
   "mimetype": "text/x-python",
   "name": "python",
   "nbconvert_exporter": "python",
   "pygments_lexer": "ipython3",
   "version": "3.6.9"
  }
 },
 "nbformat": 4,
 "nbformat_minor": 2
}
