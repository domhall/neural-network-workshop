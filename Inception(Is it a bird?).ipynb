{
 "cells": [
  {
   "cell_type": "markdown",
   "metadata": {},
   "source": [
    "# Using existing models\n",
    "\n",
    "Just because we know how to train models doesn't mean we have to do it again.\n",
    "\n",
    "Just like importing a library (Sometimes literally) we can download and use models.\n",
    "\n",
    "Keras makes this easy with a collection of pretrained models you can import: https://keras.io/api/applications/\n",
    "\n",
    "Aside from combining these models with your own or more pretrained models you can also train the models to detect new classes/features"
   ]
  },
  {
   "cell_type": "code",
   "execution_count": 1,
   "metadata": {},
   "outputs": [],
   "source": [
    "from keras.applications.inception_v3 import InceptionV3, preprocess_input, decode_predictions\n",
    "from keras.preprocessing import image\n",
    "import numpy as np"
   ]
  },
  {
   "cell_type": "code",
   "execution_count": 2,
   "metadata": {},
   "outputs": [],
   "source": [
    "def prepare_image(img_path):\n",
    "    img = image.load_img(img_path, target_size=(299, 299)) # Inception V3 uses 299*299 pixel images\n",
    "    x = image.img_to_array(img)\n",
    "    x = np.expand_dims(x, axis=0) #  predict expects an array of samples so we make an array with 1 sample\n",
    "    x = preprocess_input(x)\n",
    "    return x"
   ]
  },
  {
   "cell_type": "markdown",
   "metadata": {},
   "source": [
    "x will be this bird\n",
    "<img src=\"bird.jpg\"  style=\"width:300px\">"
   ]
  },
  {
   "cell_type": "code",
   "execution_count": 3,
   "metadata": {},
   "outputs": [
    {
     "data": {
      "text/plain": [
       "(1, 299, 299, 3)"
      ]
     },
     "execution_count": 3,
     "metadata": {},
     "output_type": "execute_result"
    }
   ],
   "source": [
    "x = prepare_image('bird.jpg')\n",
    "x.shape"
   ]
  },
  {
   "cell_type": "markdown",
   "metadata": {},
   "source": [
    "y will be this squirrel\n",
    "<img src=\"squirrel.jpg\" style=\"width:300px'\">"
   ]
  },
  {
   "cell_type": "code",
   "execution_count": 4,
   "metadata": {},
   "outputs": [
    {
     "data": {
      "text/plain": [
       "(1, 299, 299, 3)"
      ]
     },
     "execution_count": 4,
     "metadata": {},
     "output_type": "execute_result"
    }
   ],
   "source": [
    "y = prepare_image('squirrel.jpg')\n",
    "y.shape"
   ]
  },
  {
   "cell_type": "code",
   "execution_count": 5,
   "metadata": {},
   "outputs": [],
   "source": [
    "model = InceptionV3()"
   ]
  },
  {
   "cell_type": "code",
   "execution_count": 6,
   "metadata": {},
   "outputs": [
    {
     "data": {
      "text/plain": [
       "[('n02009229', 'little_blue_heron', 0.41345754),\n",
       " ('n02009912', 'American_egret', 0.12050187),\n",
       " ('n01855672', 'goose', 0.09671771),\n",
       " ('n02012849', 'crane', 0.056575444),\n",
       " ('n02051845', 'pelican', 0.047713708)]"
      ]
     },
     "execution_count": 6,
     "metadata": {},
     "output_type": "execute_result"
    }
   ],
   "source": [
    "preds = model.predict(x)\n",
    "decode_predictions(preds, top=5)[0]"
   ]
  },
  {
   "cell_type": "code",
   "execution_count": 7,
   "metadata": {},
   "outputs": [
    {
     "data": {
      "text/plain": [
       "[('n02356798', 'fox_squirrel', 0.91311973),\n",
       " ('n02326432', 'hare', 0.025868393),\n",
       " ('n02325366', 'wood_rabbit', 0.0055166325),\n",
       " ('n02137549', 'mongoose', 0.000768977),\n",
       " ('n04604644', 'worm_fence', 0.0007324025)]"
      ]
     },
     "execution_count": 7,
     "metadata": {},
     "output_type": "execute_result"
    }
   ],
   "source": [
    "preds = model.predict(y)\n",
    "decode_predictions(preds, top=5)[0]"
   ]
  },
  {
   "cell_type": "code",
   "execution_count": null,
   "metadata": {},
   "outputs": [],
   "source": []
  }
 ],
 "metadata": {
  "kernelspec": {
   "display_name": "Python 3",
   "language": "python",
   "name": "python3"
  },
  "language_info": {
   "codemirror_mode": {
    "name": "ipython",
    "version": 3
   },
   "file_extension": ".py",
   "mimetype": "text/x-python",
   "name": "python",
   "nbconvert_exporter": "python",
   "pygments_lexer": "ipython3",
   "version": "3.6.9"
  }
 },
 "nbformat": 4,
 "nbformat_minor": 2
}
