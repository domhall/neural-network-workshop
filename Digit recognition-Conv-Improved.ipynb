{
 "cells": [
  {
   "cell_type": "code",
   "execution_count": 2,
   "metadata": {},
   "outputs": [],
   "source": [
    "# A lot of code here is simplified and sourced from https://nextjournal.com/gkoehler/digit-recognition-with-keras"
   ]
  },
  {
   "cell_type": "code",
   "execution_count": 2,
   "metadata": {},
   "outputs": [],
   "source": [
    "%matplotlib inline\n",
    "# %matplotlib ipympl\n",
    "import matplotlib.pyplot as plt\n",
    "plt.rcParams[\"figure.figsize\"]=6,6\n",
    "\n",
    "import numpy as np\n",
    "from keras.utils import np_utils"
   ]
  },
  {
   "cell_type": "code",
   "execution_count": 3,
   "metadata": {},
   "outputs": [],
   "source": [
    "from keras.datasets import mnist\n",
    "\n",
    "from keras.models import Sequential, load_model\n",
    "from keras.layers.core import Dense, Activation, Dropout, Flatten\n",
    "from keras.layers.convolutional import Conv2D, MaxPooling2D\n",
    "\n",
    "import tensorflow as tf"
   ]
  },
  {
   "cell_type": "code",
   "execution_count": 4,
   "metadata": {},
   "outputs": [],
   "source": [
    "(X_train, y_train), (X_test, y_test) = mnist.load_data()"
   ]
  },
  {
   "cell_type": "code",
   "execution_count": 5,
   "metadata": {},
   "outputs": [
    {
     "data": {
      "image/png": "[encoded data removed]",
      "text/plain": [
       "<Figure size 432x432 with 9 Axes>"
      ]
     },
     "metadata": {},
     "output_type": "display_data"
    }
   ],
   "source": [
    "fig = plt.figure()\n",
    "for i in range(9):\n",
    "  plt.subplot(3,3,i+1)\n",
    "  plt.tight_layout()\n",
    "  plt.imshow(X_train[i], cmap='gray', interpolation='none')\n",
    "  plt.title(\"Lable: {}\".format(y_train[i]))\n",
    "  plt.xticks([])\n",
    "  plt.yticks([])"
   ]
  },
  {
   "cell_type": "code",
   "execution_count": 6,
   "metadata": {},
   "outputs": [
    {
     "data": {
      "text/plain": [
       "(60000, 28, 28)"
      ]
     },
     "execution_count": 6,
     "metadata": {},
     "output_type": "execute_result"
    }
   ],
   "source": [
    "X_train.shape"
   ]
  },
  {
   "cell_type": "code",
   "execution_count": 7,
   "metadata": {},
   "outputs": [],
   "source": [
    "X_train = X_train.astype('float32')\n",
    "X_test = X_test.astype('float32')"
   ]
  },
  {
   "cell_type": "code",
   "execution_count": null,
   "metadata": {},
   "outputs": [],
   "source": []
  },
  {
   "cell_type": "code",
   "execution_count": 8,
   "metadata": {},
   "outputs": [
    {
     "data": {
      "text/plain": [
       "255.0"
      ]
     },
     "execution_count": 8,
     "metadata": {},
     "output_type": "execute_result"
    }
   ],
   "source": [
    "# 255 Channels so a range of 255 for black to white\n",
    "np.amax(X_train) - np.amin(X_train)"
   ]
  },
  {
   "cell_type": "code",
   "execution_count": 9,
   "metadata": {},
   "outputs": [
    {
     "data": {
      "text/plain": [
       "1.0"
      ]
     },
     "execution_count": 9,
     "metadata": {},
     "output_type": "execute_result"
    }
   ],
   "source": [
    "# We normalise to get x between 0 and 1\n",
    "X_train_norma = X_train / 255\n",
    "X_train_norm = np.expand_dims(X_train_norma, axis=3)\n",
    "X_test_norma = X_test / 255\n",
    "X_test_norm = np.expand_dims(X_test_norma, axis=3)\n",
    "np.amax(X_train_norm) - np.amin(X_train_norm)"
   ]
  },
  {
   "cell_type": "code",
   "execution_count": 10,
   "metadata": {},
   "outputs": [
    {
     "data": {
      "text/plain": [
       "Text(0, 0.5, 'Density')"
      ]
     },
     "execution_count": 10,
     "metadata": {},
     "output_type": "execute_result"
    },
    {
     "data": {
      "image/png": "[encoded data removed]",
      "text/plain": [
       "<Figure size 432x432 with 1 Axes>"
      ]
     },
     "metadata": {
      "needs_background": "light"
     },
     "output_type": "display_data"
    }
   ],
   "source": [
    "# Distribution of Pixel Values\n",
    "plt.hist(X_train_norm.flatten(), bins = (50))\n",
    "plt.xlabel('Colour Intensity')\n",
    "plt.ylabel('Density')"
   ]
  },
  {
   "cell_type": "code",
   "execution_count": 11,
   "metadata": {},
   "outputs": [
    {
     "name": "stdout",
     "output_type": "stream",
     "text": [
      "4\n",
      "[0. 0. 0. 0. 1. 0. 0. 0. 0. 0.]\n",
      "[0, 1, 2, 3, 4, 5, 6, 7, 8, 9]\n"
     ]
    }
   ],
   "source": [
    "# Training values into catogories\n",
    "\n",
    "n_classes = 10\n",
    "print(y_train[2])\n",
    "y_train_norm = np_utils.to_categorical(y_train, n_classes)\n",
    "y_test_norm = np_utils.to_categorical(y_test, n_classes)\n",
    "print(y_train_norm[2])\n",
    "print([0,1,2,3,4,5,6,7,8,9])"
   ]
  },
  {
   "cell_type": "code",
   "execution_count": 12,
   "metadata": {},
   "outputs": [],
   "source": [
    "model = Sequential()\n",
    "\n",
    "model.add(Conv2D(30, (5, 5), input_shape=(28, 28, 1), activation='relu', name=\"conv\"))\n",
    "model.add(Conv2D(20, (3, 3), activation='relu'))\n",
    "model.add(MaxPooling2D(pool_size=(2, 2)))\n",
    "model.add(Dropout(0.3))\n",
    "model.add(Flatten())\n",
    "\n",
    "\n",
    "model.add(Dense(30, activation=\"relu\", name=\"1\"))\n",
    "model.add(Dropout(0.3))\n",
    "model.add(Dense(30, activation=\"relu\", name=\"2\"))\n",
    "\n",
    "# Convert from 10 numbers into relative probability (So total probability of each digit = 1)\n",
    "model.add(Dense(10, activation=\"softmax\", name=\"classification\"))"
   ]
  },
  {
   "cell_type": "code",
   "execution_count": 13,
   "metadata": {},
   "outputs": [
    {
     "data": {
      "text/plain": [
       "(10000, 10)"
      ]
     },
     "execution_count": 13,
     "metadata": {},
     "output_type": "execute_result"
    }
   ],
   "source": [
    "X_test_norm[0].shape\n",
    "y_test_norm.shape"
   ]
  },
  {
   "cell_type": "code",
   "execution_count": 14,
   "metadata": {},
   "outputs": [],
   "source": [
    "model.compile(loss='categorical_crossentropy', metrics=['accuracy'], optimizer='adam')"
   ]
  },
  {
   "cell_type": "code",
   "execution_count": 15,
   "metadata": {},
   "outputs": [
    {
     "name": "stdout",
     "output_type": "stream",
     "text": [
      "Epoch 1/10\n",
      "938/938 - 30s - loss: 0.4073 - accuracy: 0.8712 - val_loss: 0.0776 - val_accuracy: 0.9766\n",
      "Epoch 2/10\n",
      "938/938 - 31s - loss: 0.1632 - accuracy: 0.9513 - val_loss: 0.0535 - val_accuracy: 0.9836\n",
      "Epoch 3/10\n",
      "938/938 - 36s - loss: 0.1239 - accuracy: 0.9626 - val_loss: 0.0537 - val_accuracy: 0.9827\n",
      "Epoch 4/10\n",
      "938/938 - 37s - loss: 0.1028 - accuracy: 0.9686 - val_loss: 0.0465 - val_accuracy: 0.9855\n",
      "Epoch 5/10\n",
      "938/938 - 40s - loss: 0.0929 - accuracy: 0.9717 - val_loss: 0.0407 - val_accuracy: 0.9869\n",
      "Epoch 6/10\n",
      "938/938 - 40s - loss: 0.0863 - accuracy: 0.9732 - val_loss: 0.0403 - val_accuracy: 0.9875\n",
      "Epoch 7/10\n",
      "938/938 - 38s - loss: 0.0795 - accuracy: 0.9754 - val_loss: 0.0387 - val_accuracy: 0.9878\n",
      "Epoch 8/10\n",
      "938/938 - 37s - loss: 0.0747 - accuracy: 0.9767 - val_loss: 0.0377 - val_accuracy: 0.9881\n",
      "Epoch 9/10\n",
      "938/938 - 47s - loss: 0.0720 - accuracy: 0.9779 - val_loss: 0.0347 - val_accuracy: 0.9894\n",
      "Epoch 10/10\n",
      "938/938 - 42s - loss: 0.0670 - accuracy: 0.9793 - val_loss: 0.0369 - val_accuracy: 0.9901\n"
     ]
    }
   ],
   "source": [
    "history = model.fit(X_train_norm, y_train_norm,\n",
    "          batch_size=64, epochs=10,\n",
    "          verbose=2,\n",
    "          validation_data=(X_test_norm, y_test_norm))"
   ]
  },
  {
   "cell_type": "code",
   "execution_count": 16,
   "metadata": {},
   "outputs": [
    {
     "name": "stdout",
     "output_type": "stream",
     "text": [
      "Training Loss: 0.06701798737049103\n",
      "Training Accuracy: 0.979283332824707\n"
     ]
    }
   ],
   "source": [
    "print(\"Training Loss:\", history.history['loss'][-1])\n",
    "print(\"Training Accuracy:\", history.history['accuracy'][-1])"
   ]
  },
  {
   "cell_type": "code",
   "execution_count": 17,
   "metadata": {},
   "outputs": [
    {
     "name": "stdout",
     "output_type": "stream",
     "text": [
      "313/313 [==============================] - 3s 10ms/step - loss: 0.0369 - accuracy: 0.9901\n",
      "Test Accuracy: 0.9901000261306763\n"
     ]
    }
   ],
   "source": [
    "print(\"Test Accuracy:\", model.evaluate(X_test_norm, y_test_norm)[1])"
   ]
  },
  {
   "cell_type": "code",
   "execution_count": 18,
   "metadata": {
    "scrolled": false
   },
   "outputs": [
    {
     "data": {
      "image/png": "[encoded data removed]",
      "text/plain": [
       "<Figure size 432x432 with 9 Axes>"
      ]
     },
     "metadata": {},
     "output_type": "display_data"
    }
   ],
   "source": [
    "y_pred = model.predict(X_test_norm)\n",
    "\n",
    "\n",
    "fig = plt.figure()\n",
    "for i in range(8,17):\n",
    "  plt.subplot(3,3,i+1 - 8)\n",
    "  plt.tight_layout()\n",
    "  plt.imshow(X_test[i], cmap='hot', interpolation='none')\n",
    "  plt.title(\"Pred: {} True: {}\".format(np.argmax(y_pred[i]), y_test[i]))\n",
    "  plt.xticks([])\n",
    "  plt.yticks([])"
   ]
  },
  {
   "cell_type": "code",
   "execution_count": 19,
   "metadata": {},
   "outputs": [
    {
     "data": {
      "text/plain": [
       "<matplotlib.colorbar.Colorbar at 0x7f06e46f9550>"
      ]
     },
     "execution_count": 19,
     "metadata": {},
     "output_type": "execute_result"
    },
    {
     "data": {
      "image/png": "[encoded data removed]",
      "text/plain": [
       "<Figure size 864x864 with 2 Axes>"
      ]
     },
     "metadata": {
      "needs_background": "light"
     },
     "output_type": "display_data"
    }
   ],
   "source": [
    "plt.rcParams[\"figure.figsize\"]=12,12\n",
    "heatmap = np.zeros([6*6+1,6*5+1])\n",
    "weights_layer = model.get_layer(\"conv\").get_weights()[0]\n",
    "for x in range(6):\n",
    "    for y in range(5):\n",
    "        if x + y < 30:\n",
    "            heatmap[x*6:x*6+5, y*6:y*6+5] = weights_layer[:, :, 0, x * 5 + y]\n",
    "        \n",
    "plt.imshow(heatmap, cmap='RdYlGn')\n",
    "plt.colorbar()"
   ]
  },
  {
   "cell_type": "code",
   "execution_count": 20,
   "metadata": {},
   "outputs": [],
   "source": [
    "plt.rcParams[\"figure.figsize\"]=6,6"
   ]
  },
  {
   "cell_type": "code",
   "execution_count": null,
   "metadata": {},
   "outputs": [],
   "source": []
  },
  {
   "cell_type": "code",
   "execution_count": null,
   "metadata": {},
   "outputs": [],
   "source": []
  }
 ],
 "metadata": {
  "kernelspec": {
   "display_name": "Python 3",
   "language": "python",
   "name": "python3"
  },
  "language_info": {
   "codemirror_mode": {
    "name": "ipython",
    "version": 3
   },
   "file_extension": ".py",
   "mimetype": "text/x-python",
   "name": "python",
   "nbconvert_exporter": "python",
   "pygments_lexer": "ipython3",
   "version": "3.6.9"
  }
 },
 "nbformat": 4,
 "nbformat_minor": 2
}
