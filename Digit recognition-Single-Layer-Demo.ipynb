{
 "cells": [
  {
   "cell_type": "markdown",
   "metadata": {},
   "source": [
    "# Dense Neural Networks\n",
    "\n",
    "This Notebook has a simple network with 1 dense hidden layer with 5 nodes.\n",
    "\n",
    "The model isn't very accurate but it has a nice visualization of how the 5 nodes activate at the bottom and trains fast."
   ]
  },
  {
   "cell_type": "code",
   "execution_count": 1,
   "metadata": {},
   "outputs": [],
   "source": [
    "# A lot of code here is simplified and sourced from https://nextjournal.com/gkoehler/digit-recognition-with-keras"
   ]
  },
  {
   "cell_type": "markdown",
   "metadata": {},
   "source": [
    "We use Numpy to work with our data and matplotlib to display graphs"
   ]
  },
  {
   "cell_type": "code",
   "execution_count": 2,
   "metadata": {},
   "outputs": [],
   "source": [
    "%matplotlib inline\n",
    "# %matplotlib ipympl\n",
    "import matplotlib.pyplot as plt\n",
    "plt.rcParams[\"figure.figsize\"]=6,6\n",
    "\n",
    "import numpy as np\n",
    "from keras.utils import np_utils"
   ]
  },
  {
   "cell_type": "markdown",
   "metadata": {},
   "source": [
    "Keras is an api layer above tensorflow that allows us to easily specify neural networks with some predefined layers"
   ]
  },
  {
   "cell_type": "code",
   "execution_count": 3,
   "metadata": {},
   "outputs": [],
   "source": [
    "from keras.datasets import mnist\n",
    "\n",
    "from keras.models import Sequential, load_model\n",
    "from keras.layers.core import Dense, Activation\n",
    "\n",
    "import tensorflow as tf"
   ]
  },
  {
   "cell_type": "markdown",
   "metadata": {},
   "source": [
    "We load training data and testing data. Normally we would then split our training data into training and validation data. mnist is a data sample of hand drawn digits."
   ]
  },
  {
   "cell_type": "code",
   "execution_count": 4,
   "metadata": {},
   "outputs": [],
   "source": [
    "(X_train, y_train), (X_test, y_test) = mnist.load_data()"
   ]
  },
  {
   "cell_type": "markdown",
   "metadata": {},
   "source": [
    "To take a look at the data we look at the first 9 digits and their lables"
   ]
  },
  {
   "cell_type": "code",
   "execution_count": 5,
   "metadata": {},
   "outputs": [
    {
     "data": {
      "image/png": "[encoded data removed]",
      "text/plain": [
       "<Figure size 432x432 with 9 Axes>"
      ]
     },
     "metadata": {},
     "output_type": "display_data"
    }
   ],
   "source": [
    "fig = plt.figure()\n",
    "for i in range(9):\n",
    "  plt.subplot(3,3,i+1)\n",
    "  plt.tight_layout()\n",
    "  plt.imshow(X_train[i], cmap='gray', interpolation='none')\n",
    "  plt.title(\"Lable: {}\".format(y_train[i]))\n",
    "  plt.xticks([])\n",
    "  plt.yticks([])"
   ]
  },
  {
   "cell_type": "markdown",
   "metadata": {},
   "source": [
    "We have 60000 samples and each sample is 28*28 pixels"
   ]
  },
  {
   "cell_type": "code",
   "execution_count": 6,
   "metadata": {},
   "outputs": [
    {
     "data": {
      "text/plain": [
       "(60000, 28, 28)"
      ]
     },
     "execution_count": 6,
     "metadata": {},
     "output_type": "execute_result"
    }
   ],
   "source": [
    "X_train.shape"
   ]
  },
  {
   "cell_type": "code",
   "execution_count": 7,
   "metadata": {},
   "outputs": [],
   "source": [
    "# Reshape into input vector instead of input matrix\n",
    "\n",
    "X_train_flat = X_train.reshape(60000, 784)\n",
    "X_test_flat = X_test.reshape(10000, 784)\n",
    "X_train = X_train.astype('float32')\n",
    "X_test = X_test.astype('float32')"
   ]
  },
  {
   "cell_type": "markdown",
   "metadata": {},
   "source": [
    "The pixels are now flattened into a vector so we can input them into the network as an input layer"
   ]
  },
  {
   "cell_type": "code",
   "execution_count": 8,
   "metadata": {},
   "outputs": [
    {
     "data": {
      "text/plain": [
       "(60000, 784)"
      ]
     },
     "execution_count": 8,
     "metadata": {},
     "output_type": "execute_result"
    }
   ],
   "source": [
    "X_train_flat.shape"
   ]
  },
  {
   "cell_type": "code",
   "execution_count": 9,
   "metadata": {},
   "outputs": [
    {
     "data": {
      "text/plain": [
       "255.0"
      ]
     },
     "execution_count": 9,
     "metadata": {},
     "output_type": "execute_result"
    }
   ],
   "source": [
    "# A range of 255 for black to white\n",
    "np.amax(X_train) - np.amin(X_train)"
   ]
  },
  {
   "cell_type": "code",
   "execution_count": 10,
   "metadata": {},
   "outputs": [
    {
     "data": {
      "text/plain": [
       "1.0"
      ]
     },
     "execution_count": 10,
     "metadata": {},
     "output_type": "execute_result"
    }
   ],
   "source": [
    "# We normalise to get x between 0 and 1\n",
    "X_train_norm = X_train_flat / 255\n",
    "X_test_norm = X_test_flat / 255\n",
    "np.amax(X_train_norm) - np.amin(X_train_norm)"
   ]
  },
  {
   "cell_type": "code",
   "execution_count": 11,
   "metadata": {},
   "outputs": [
    {
     "data": {
      "text/plain": [
       "Text(0, 0.5, 'Density')"
      ]
     },
     "execution_count": 11,
     "metadata": {},
     "output_type": "execute_result"
    },
    {
     "data": {
      "image/png": "[encoded data removed]",
      "text/plain": [
       "<Figure size 432x432 with 1 Axes>"
      ]
     },
     "metadata": {
      "needs_background": "light"
     },
     "output_type": "display_data"
    }
   ],
   "source": [
    "# Distribution of Pixel Values\n",
    "plt.hist(X_train_norm.flatten(), bins = (50))\n",
    "plt.xlabel('Colour Intensity')\n",
    "plt.ylabel('Density')"
   ]
  },
  {
   "cell_type": "markdown",
   "metadata": {},
   "source": [
    "We want to have 10 different catagories (0 to 9) and our output will be a probability of each digit being the correct number (with a probability of 1 for the lable)"
   ]
  },
  {
   "cell_type": "code",
   "execution_count": 12,
   "metadata": {},
   "outputs": [
    {
     "name": "stdout",
     "output_type": "stream",
     "text": [
      "4\n",
      "[0. 0. 0. 0. 1. 0. 0. 0. 0. 0.]\n",
      "[0, 1, 2, 3, 4, 5, 6, 7, 8, 9]\n"
     ]
    }
   ],
   "source": [
    "# Training values into catogories\n",
    "\n",
    "n_classes = 10\n",
    "print(y_train[2])\n",
    "y_train_norm = np_utils.to_categorical(y_train, n_classes)\n",
    "y_test_norm = np_utils.to_categorical(y_test, n_classes)\n",
    "print(y_train_norm[2])\n",
    "print([0,1,2,3,4,5,6,7,8,9])"
   ]
  },
  {
   "cell_type": "markdown",
   "metadata": {},
   "source": [
    "# The model\n",
    "\n",
    "This is the part we're particularly interested in.\n",
    "Here we can add layers and customise our network architecture."
   ]
  },
  {
   "cell_type": "code",
   "execution_count": 13,
   "metadata": {},
   "outputs": [],
   "source": [
    "model = Sequential()\n",
    "\n",
    "# We specify we expect 784 input nodes (the number of pixels)\n",
    "# Add a 5 node hidden layer\n",
    "model.add(Dense(5, activation=\"relu\", input_shape=(784,), name=\"1\"))\n",
    "\n",
    "# Convert from 10 numbers into relative probability (So total probability of each digit = 1)\n",
    "model.add(Dense(10, activation=\"softmax\", name=\"classification\"))"
   ]
  },
  {
   "cell_type": "markdown",
   "metadata": {},
   "source": [
    "We \"compile\" our model (setup with tensorflow).\n",
    "\n",
    "We define what metrics we're interested in seeing, how to calculate our loss values and what optimization algorithm should be used to adjust our weights."
   ]
  },
  {
   "cell_type": "code",
   "execution_count": 14,
   "metadata": {},
   "outputs": [],
   "source": [
    "model.compile(loss='categorical_crossentropy', metrics=['accuracy'], optimizer='adam')"
   ]
  },
  {
   "cell_type": "markdown",
   "metadata": {},
   "source": [
    "# Training\n",
    "Here we train our network on the training data. We use 10 \"epochs\" or passes and make progressively smaller adjustments to our weights with each pass.\n",
    "\n",
    "We train in batches to reduce our training time. Interestingly batch based training actually improves accuracy and nobody has proven (or fully understands) why."
   ]
  },
  {
   "cell_type": "code",
   "execution_count": 15,
   "metadata": {
    "scrolled": true
   },
   "outputs": [
    {
     "name": "stdout",
     "output_type": "stream",
     "text": [
      "Epoch 1/10\n",
      "938/938 - 2s - loss: 1.0553 - accuracy: 0.6830 - val_loss: 0.5641 - val_accuracy: 0.8437\n",
      "Epoch 2/10\n",
      "938/938 - 1s - loss: 0.4960 - accuracy: 0.8608 - val_loss: 0.4443 - val_accuracy: 0.8806\n",
      "Epoch 3/10\n",
      "938/938 - 1s - loss: 0.4303 - accuracy: 0.8811 - val_loss: 0.4096 - val_accuracy: 0.8893\n",
      "Epoch 4/10\n",
      "938/938 - 1s - loss: 0.4028 - accuracy: 0.8885 - val_loss: 0.3885 - val_accuracy: 0.8934\n",
      "Epoch 5/10\n",
      "938/938 - 1s - loss: 0.3874 - accuracy: 0.8935 - val_loss: 0.3781 - val_accuracy: 0.8958\n",
      "Epoch 6/10\n",
      "938/938 - 1s - loss: 0.3767 - accuracy: 0.8949 - val_loss: 0.3729 - val_accuracy: 0.8960\n",
      "Epoch 7/10\n",
      "938/938 - 1s - loss: 0.3690 - accuracy: 0.8971 - val_loss: 0.3647 - val_accuracy: 0.8997\n",
      "Epoch 8/10\n",
      "938/938 - 1s - loss: 0.3627 - accuracy: 0.8985 - val_loss: 0.3634 - val_accuracy: 0.8996\n",
      "Epoch 9/10\n",
      "938/938 - 1s - loss: 0.3574 - accuracy: 0.9005 - val_loss: 0.3602 - val_accuracy: 0.8981\n",
      "Epoch 10/10\n",
      "938/938 - 1s - loss: 0.3539 - accuracy: 0.9016 - val_loss: 0.3556 - val_accuracy: 0.8991\n"
     ]
    }
   ],
   "source": [
    "history = model.fit(X_train_norm, y_train_norm,\n",
    "          batch_size=64, epochs=10,\n",
    "          verbose=2,\n",
    "          validation_data=(X_test_norm, y_test_norm))"
   ]
  },
  {
   "cell_type": "markdown",
   "metadata": {},
   "source": [
    "Training Accuracy gives a good indication of how good our model is performing. It's important to note that by training too much or with too much memorisation can lead to models \"overfitting\" and having high training accuracy and low test accuracy."
   ]
  },
  {
   "cell_type": "code",
   "execution_count": 16,
   "metadata": {},
   "outputs": [
    {
     "name": "stdout",
     "output_type": "stream",
     "text": [
      "Training Loss: 0.3539432883262634\n",
      "Training Accuracy: 0.9016333222389221\n"
     ]
    }
   ],
   "source": [
    "print(\"Training Loss:\", history.history['loss'][-1])\n",
    "print(\"Training Accuracy:\", history.history['accuracy'][-1])"
   ]
  },
  {
   "cell_type": "markdown",
   "metadata": {},
   "source": [
    "Our test accuracy gives a better indication of how our model will perform in the real world.\n",
    "\n",
    "Knowing how to properly prevent leakage between this and training accuracy is one of the most important skills in machine learning."
   ]
  },
  {
   "cell_type": "code",
   "execution_count": 17,
   "metadata": {},
   "outputs": [
    {
     "name": "stdout",
     "output_type": "stream",
     "text": [
      "313/313 [==============================] - 0s 1ms/step - loss: 0.3556 - accuracy: 0.8991\n",
      "Test Accuracy: 0.8991000056266785\n"
     ]
    }
   ],
   "source": [
    "print(\"Test Accuracy:\", model.evaluate(X_test_norm, y_test_norm)[1])"
   ]
  },
  {
   "cell_type": "markdown",
   "metadata": {},
   "source": [
    "# How did we perform?\n",
    "\n",
    "Here we look at some samples from the test data and take a look at what our model thinks each digit is.\n",
    "\n",
    "Looking at where we succeed and fail gives us a good indication of weaknesses and strengths of our model.\n",
    "\n",
    "A notable weakness is our model doesn't understand that digits can be drawn in different parts of the image. Our model is entirely based on absolute pixels rather than relative. We could adjust for this by scaling around the digits but this is a weak solution. We need an improved way to learn to \"see\""
   ]
  },
  {
   "cell_type": "code",
   "execution_count": 18,
   "metadata": {
    "scrolled": false
   },
   "outputs": [
    {
     "data": {
      "image/png": "[encoded data removed]",
      "text/plain": [
       "<Figure size 432x432 with 9 Axes>"
      ]
     },
     "metadata": {},
     "output_type": "display_data"
    }
   ],
   "source": [
    "\n",
    "plt.rcParams[\"figure.figsize\"]=6,6\n",
    "\n",
    "y_pred = model.predict(X_test_norm)\n",
    "\n",
    "\n",
    "fig = plt.figure()\n",
    "for i in range(8,17):\n",
    "  plt.subplot(3,3,i+1 - 8)\n",
    "  plt.tight_layout()\n",
    "  plt.imshow(X_test[i], cmap='hot', interpolation='none')\n",
    "  plt.title(\"Pred: {} True: {}\".format(np.argmax(y_pred[i]), y_test[i]))\n",
    "  plt.xticks([])\n",
    "  plt.yticks([])"
   ]
  },
  {
   "cell_type": "markdown",
   "metadata": {},
   "source": [
    "# What's in our neurons?\n",
    "\n",
    "One of the reasons we only have 5 neurons on our hidden layer is so we can more easily see what causes each neuron to activate. High pixels in green areas increase activation, high pixels in red areas decrease activation and yellow areas mostly ignore pixel values."
   ]
  },
  {
   "cell_type": "code",
   "execution_count": 19,
   "metadata": {},
   "outputs": [
    {
     "data": {
      "image/png": "[encoded data removed]",
      "text/plain": [
       "<Figure size 1008x1008 with 5 Axes>"
      ]
     },
     "metadata": {},
     "output_type": "display_data"
    }
   ],
   "source": [
    "plt.rcParams[\"figure.figsize\"]=14,14\n",
    "\n",
    "activations = np.swapaxes(np.asarray(model.get_layer(\"1\").get_weights()[0]), 0, 1)\n",
    "\n",
    "fig = plt.figure()\n",
    "for i in range(0,activations.shape[0]):\n",
    "  plt.subplot(int(activations.shape[0]/5) + 1,5,i+1)\n",
    "  plt.tight_layout()\n",
    "  plt.imshow(activations[i].reshape(28,28), cmap='RdYlGn', interpolation='none', vmin=-1, vmax=1)\n",
    "  plt.title(\"Node: {}\".format(i))\n",
    "  plt.xticks([])\n",
    "  plt.yticks([])"
   ]
  },
  {
   "cell_type": "code",
   "execution_count": 20,
   "metadata": {},
   "outputs": [],
   "source": [
    "plt.rcParams[\"figure.figsize\"]=6,6"
   ]
  },
  {
   "cell_type": "markdown",
   "metadata": {},
   "source": [
    "Here we can see the how each node (from left to right) effects each digit. Higher numbers increase the effect of a neuron activation."
   ]
  },
  {
   "cell_type": "code",
   "execution_count": 21,
   "metadata": {},
   "outputs": [
    {
     "name": "stdout",
     "output_type": "stream",
     "text": [
      "0 [-0.726295    0.01560059  0.9018204   0.02412331 -0.6822173 ]\n",
      "1 [ 0.7659025  -1.5233669  -1.0698583  -0.16004598  0.5009471 ]\n",
      "2 [-0.31960395 -1.1919161   0.38296434  0.67997926 -0.12001978]\n",
      "3 [ 0.78158295 -0.8683821   0.22369161 -0.7804947  -0.3027119 ]\n",
      "4 [-0.6474141   0.7171597  -1.391982   -0.8205504  -0.21625589]\n",
      "5 [ 0.34618613  0.22638479  0.21586841 -0.7382572  -1.1295949 ]\n",
      "6 [-0.38318408  0.17939897 -0.33978438  0.45336136 -1.5124303 ]\n",
      "7 [-0.9477375  -0.5112462   0.36267933 -1.099057    1.2146355 ]\n",
      "8 [ 0.6588938  -0.22493204 -0.43023118 -0.12107128 -0.22078462]\n",
      "9 [-0.03175198 -0.00552146 -0.53696305 -0.7957557   0.5604615 ]\n"
     ]
    }
   ],
   "source": [
    "activations = np.swapaxes(np.asarray(model.get_layer(\"classification\").get_weights()[0]), 0, 1)\n",
    "for digit, weights in enumerate(activations):\n",
    "    print(digit, weights)"
   ]
  },
  {
   "cell_type": "code",
   "execution_count": null,
   "metadata": {},
   "outputs": [],
   "source": []
  }
 ],
 "metadata": {
  "kernelspec": {
   "display_name": "Python 3",
   "language": "python",
   "name": "python3"
  },
  "language_info": {
   "codemirror_mode": {
    "name": "ipython",
    "version": 3
   },
   "file_extension": ".py",
   "mimetype": "text/x-python",
   "name": "python",
   "nbconvert_exporter": "python",
   "pygments_lexer": "ipython3",
   "version": "3.6.9"
  }
 },
 "nbformat": 4,
 "nbformat_minor": 2
}
