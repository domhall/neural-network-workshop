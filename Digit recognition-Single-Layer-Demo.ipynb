{
 "cells": [
  {
   "cell_type": "markdown",
   "metadata": {},
   "source": [
    "# Dense Neural Networks\n",
    "\n",
    "This Notebook has a simple network with 1 dense hidden layer with 5 nodes.\n",
    "\n",
    "The model isn't very accurate but it has a nice visualization of how the 5 nodes activate at the bottom and trains fast."
   ]
  },
  {
   "cell_type": "code",
   "execution_count": 1,
   "metadata": {},
   "outputs": [],
   "source": [
    "# A lot of code here is simplified and sourced from https://nextjournal.com/gkoehler/digit-recognition-with-keras"
   ]
  },
  {
   "cell_type": "markdown",
   "metadata": {},
   "source": [
    "We use Numpy to work with our data and matplotlib to display graphs"
   ]
  },
  {
   "cell_type": "code",
   "execution_count": 37,
   "metadata": {},
   "outputs": [],
   "source": [
    "%matplotlib inline\n",
    "# %matplotlib ipympl\n",
    "import matplotlib.pyplot as plt\n",
    "plt.rcParams[\"figure.figsize\"]=6,6\n",
    "\n",
    "import numpy as np\n",
    "from keras.utils import np_utils"
   ]
  },
  {
   "cell_type": "markdown",
   "metadata": {},
   "source": [
    "Keras is an api layer above tensorflow that allows us to easily specify neural networks with some predefined layers"
   ]
  },
  {
   "cell_type": "code",
   "execution_count": 3,
   "metadata": {},
   "outputs": [],
   "source": [
    "from keras.datasets import mnist\n",
    "\n",
    "from keras.models import Sequential, load_model\n",
    "from keras.layers.core import Dense, Activation\n",
    "\n",
    "import tensorflow as tf"
   ]
  },
  {
   "cell_type": "markdown",
   "metadata": {},
   "source": [
    "We load training data and testing data. Normally we would then split our training data into training and validation data. mnist is a data sample of hand drawn digits."
   ]
  },
  {
   "cell_type": "code",
   "execution_count": 4,
   "metadata": {},
   "outputs": [
    {
     "name": "stdout",
     "output_type": "stream",
     "text": [
      "Downloading data from https://storage.googleapis.com/tensorflow/tf-keras-datasets/mnist.npz\n",
      "11493376/11490434 [==============================] - 3s 0us/step\n"
     ]
    }
   ],
   "source": [
    "(X_train, y_train), (X_test, y_test) = mnist.load_data()"
   ]
  },
  {
   "cell_type": "markdown",
   "metadata": {},
   "source": [
    "To take a look at the data we look at the first 9 digits and their lables"
   ]
  },
  {
   "cell_type": "code",
   "execution_count": 38,
   "metadata": {},
   "outputs": [
    {
     "data": {
      "image/png": "[encoded data removed]",
      "text/plain": [
       "<Figure size 432x432 with 9 Axes>"
      ]
     },
     "metadata": {},
     "output_type": "display_data"
    }
   ],
   "source": [
    "fig = plt.figure()\n",
    "for i in range(9):\n",
    "  plt.subplot(3,3,i+1)\n",
    "  plt.tight_layout()\n",
    "  plt.imshow(X_train[i], cmap='gray', interpolation='none')\n",
    "  plt.title(\"Lable: {}\".format(y_train[i]))\n",
    "  plt.xticks([])\n",
    "  plt.yticks([])"
   ]
  },
  {
   "cell_type": "markdown",
   "metadata": {},
   "source": [
    "We have 60000 samples and each sample is 28*28 pixels"
   ]
  },
  {
   "cell_type": "code",
   "execution_count": 6,
   "metadata": {},
   "outputs": [
    {
     "data": {
      "text/plain": [
       "(60000, 28, 28)"
      ]
     },
     "execution_count": 6,
     "metadata": {},
     "output_type": "execute_result"
    }
   ],
   "source": [
    "X_train.shape"
   ]
  },
  {
   "cell_type": "code",
   "execution_count": 7,
   "metadata": {},
   "outputs": [],
   "source": [
    "# Reshape into input vector instead of input matrix\n",
    "\n",
    "X_train_flat = X_train.reshape(60000, 784)\n",
    "X_test_flat = X_test.reshape(10000, 784)\n",
    "X_train = X_train.astype('float32')\n",
    "X_test = X_test.astype('float32')"
   ]
  },
  {
   "cell_type": "markdown",
   "metadata": {},
   "source": [
    "The pixels are now flattened into a vector so we can input them into the network as an input layer"
   ]
  },
  {
   "cell_type": "code",
   "execution_count": 8,
   "metadata": {},
   "outputs": [
    {
     "data": {
      "text/plain": [
       "(60000, 784)"
      ]
     },
     "execution_count": 8,
     "metadata": {},
     "output_type": "execute_result"
    }
   ],
   "source": [
    "X_train_flat.shape"
   ]
  },
  {
   "cell_type": "code",
   "execution_count": 54,
   "metadata": {},
   "outputs": [
    {
     "data": {
      "text/plain": [
       "255.0"
      ]
     },
     "execution_count": 54,
     "metadata": {},
     "output_type": "execute_result"
    }
   ],
   "source": [
    "# A range of 255 for black to white\n",
    "np.amax(X_train) - np.amin(X_train)"
   ]
  },
  {
   "cell_type": "code",
   "execution_count": 10,
   "metadata": {},
   "outputs": [
    {
     "data": {
      "text/plain": [
       "1.0"
      ]
     },
     "execution_count": 10,
     "metadata": {},
     "output_type": "execute_result"
    }
   ],
   "source": [
    "# We normalise to get x between 0 and 1\n",
    "X_train_norm = X_train_flat / 255\n",
    "X_test_norm = X_test_flat / 255\n",
    "np.amax(X_train_norm) - np.amin(X_train_norm)"
   ]
  },
  {
   "cell_type": "code",
   "execution_count": 39,
   "metadata": {},
   "outputs": [
    {
     "data": {
      "text/plain": [
       "Text(0, 0.5, 'Density')"
      ]
     },
     "execution_count": 39,
     "metadata": {},
     "output_type": "execute_result"
    },
    {
     "data": {
      "image/png": "[encoded data removed]",
      "text/plain": [
       "<Figure size 432x432 with 1 Axes>"
      ]
     },
     "metadata": {
      "needs_background": "light"
     },
     "output_type": "display_data"
    }
   ],
   "source": [
    "# Distribution of Pixel Values\n",
    "plt.hist(X_train_norm.flatten(), bins = (50))\n",
    "plt.xlabel('Colour Intensity')\n",
    "plt.ylabel('Density')"
   ]
  },
  {
   "cell_type": "markdown",
   "metadata": {},
   "source": [
    "We want to have 10 different catagories (0 to 9) and our output will be a probability of each digit being the correct number (with a probability of 1 for the lable)"
   ]
  },
  {
   "cell_type": "code",
   "execution_count": 12,
   "metadata": {},
   "outputs": [
    {
     "name": "stdout",
     "output_type": "stream",
     "text": [
      "4\n",
      "[0. 0. 0. 0. 1. 0. 0. 0. 0. 0.]\n",
      "[0, 1, 2, 3, 4, 5, 6, 7, 8, 9]\n"
     ]
    }
   ],
   "source": [
    "# Training values into catogories\n",
    "\n",
    "n_classes = 10\n",
    "print(y_train[2])\n",
    "y_train_norm = np_utils.to_categorical(y_train, n_classes)\n",
    "y_test_norm = np_utils.to_categorical(y_test, n_classes)\n",
    "print(y_train_norm[2])\n",
    "print([0,1,2,3,4,5,6,7,8,9])"
   ]
  },
  {
   "cell_type": "markdown",
   "metadata": {},
   "source": [
    "# The model\n",
    "\n",
    "This is the part we're particularly interested in.\n",
    "Here we can add layers and customise our network architecture."
   ]
  },
  {
   "cell_type": "code",
   "execution_count": 41,
   "metadata": {},
   "outputs": [],
   "source": [
    "model = Sequential()\n",
    "\n",
    "# We specify we expect 784 input nodes (the number of pixels)\n",
    "# Add a 5 node hidden layer\n",
    "model.add(Dense(5, activation=\"relu\", input_shape=(784,), name=\"1\"))\n",
    "\n",
    "# Convert from 10 numbers into relative probability (So total probability of each digit = 1)\n",
    "model.add(Dense(10, activation=\"softmax\", name=\"classification\"))"
   ]
  },
  {
   "cell_type": "markdown",
   "metadata": {},
   "source": [
    "We \"compile\" our model (setup with tensorflow).\n",
    "\n",
    "We define what metrics we're interested in seeing, how to calculate our loss values and what optimization algorithm should be used to adjust our weights."
   ]
  },
  {
   "cell_type": "code",
   "execution_count": 42,
   "metadata": {},
   "outputs": [],
   "source": [
    "model.compile(loss='categorical_crossentropy', metrics=['accuracy'], optimizer='adam')"
   ]
  },
  {
   "cell_type": "markdown",
   "metadata": {},
   "source": [
    "# Training\n",
    "Here we train our network on the training data. We use 10 \"epochs\" or passes and make progressively smaller adjustments to our weights with each pass.\n",
    "\n",
    "We train in batches to reduce our training time. Interestingly batch based training actually improves accuracy and nobody has proven (or fully understands) why."
   ]
  },
  {
   "cell_type": "code",
   "execution_count": 43,
   "metadata": {
    "scrolled": true
   },
   "outputs": [
    {
     "name": "stdout",
     "output_type": "stream",
     "text": [
      "Epoch 1/10\n",
      "938/938 - 2s - loss: 1.0358 - accuracy: 0.6646 - val_loss: 0.6044 - val_accuracy: 0.8189\n",
      "Epoch 2/10\n",
      "938/938 - 2s - loss: 0.5413 - accuracy: 0.8426 - val_loss: 0.4646 - val_accuracy: 0.8646\n",
      "Epoch 3/10\n",
      "938/938 - 2s - loss: 0.4635 - accuracy: 0.8684 - val_loss: 0.4180 - val_accuracy: 0.8793\n",
      "Epoch 4/10\n",
      "938/938 - 2s - loss: 0.4233 - accuracy: 0.8803 - val_loss: 0.3960 - val_accuracy: 0.8867\n",
      "Epoch 5/10\n",
      "938/938 - 2s - loss: 0.3982 - accuracy: 0.8867 - val_loss: 0.3754 - val_accuracy: 0.8910\n",
      "Epoch 6/10\n",
      "938/938 - 2s - loss: 0.3816 - accuracy: 0.8921 - val_loss: 0.3773 - val_accuracy: 0.8894\n",
      "Epoch 7/10\n",
      "938/938 - 2s - loss: 0.3701 - accuracy: 0.8945 - val_loss: 0.3598 - val_accuracy: 0.8992\n",
      "Epoch 8/10\n",
      "938/938 - 2s - loss: 0.3626 - accuracy: 0.8962 - val_loss: 0.3625 - val_accuracy: 0.8971\n",
      "Epoch 9/10\n",
      "938/938 - 2s - loss: 0.3567 - accuracy: 0.8994 - val_loss: 0.3620 - val_accuracy: 0.8968\n",
      "Epoch 10/10\n",
      "938/938 - 2s - loss: 0.3522 - accuracy: 0.9013 - val_loss: 0.3529 - val_accuracy: 0.9010\n"
     ]
    }
   ],
   "source": [
    "history = model.fit(X_train_norm, y_train_norm,\n",
    "          batch_size=64, epochs=10,\n",
    "          verbose=2,\n",
    "          validation_data=(X_test_norm, y_test_norm))"
   ]
  },
  {
   "cell_type": "markdown",
   "metadata": {},
   "source": [
    "Training Accuracy gives a good indication of how good our model is performing. It's important to note that by training too much or with too much memorisation can lead to models \"overfitting\" and having high training accuracy and low test accuracy."
   ]
  },
  {
   "cell_type": "code",
   "execution_count": 44,
   "metadata": {},
   "outputs": [
    {
     "name": "stdout",
     "output_type": "stream",
     "text": [
      "Training Loss: 0.35223668813705444\n",
      "Training Accuracy: 0.9013166427612305\n"
     ]
    }
   ],
   "source": [
    "print(\"Training Loss:\", history.history['loss'][-1])\n",
    "print(\"Training Accuracy:\", history.history['accuracy'][-1])"
   ]
  },
  {
   "cell_type": "markdown",
   "metadata": {},
   "source": [
    "Our test accuracy gives a better indication of how our model will perform in the real world.\n",
    "\n",
    "Knowing how to properly prevent leakage between this and training accuracy is one of the most important skills in machine learning."
   ]
  },
  {
   "cell_type": "code",
   "execution_count": 45,
   "metadata": {},
   "outputs": [
    {
     "name": "stdout",
     "output_type": "stream",
     "text": [
      "313/313 [==============================] - 1s 2ms/step - loss: 0.3529 - accuracy: 0.9010\n",
      "Test Accuracy: 0.9010000228881836\n"
     ]
    }
   ],
   "source": [
    "print(\"Test Accuracy:\", model.evaluate(X_test_norm, y_test_norm)[1])"
   ]
  },
  {
   "cell_type": "markdown",
   "metadata": {},
   "source": [
    "# How did we perform?\n",
    "\n",
    "Here we look at some samples from the test data and take a look at what our model thinks each digit is.\n",
    "\n",
    "Looking at where we succeed and fail gives us a good indication of weaknesses and strengths of our model.\n",
    "\n",
    "A notable weakness is our model doesn't understand that digits can be drawn in different parts of the image. Our model is entirely based on absolute pixels rather than relative. We could adjust for this by scaling around the digits but this is a weak solution. We need an improved way to learn to \"see\""
   ]
  },
  {
   "cell_type": "code",
   "execution_count": 56,
   "metadata": {
    "scrolled": false
   },
   "outputs": [
    {
     "data": {
      "image/png": "[encoded data removed]",
      "text/plain": [
       "<Figure size 432x432 with 9 Axes>"
      ]
     },
     "metadata": {},
     "output_type": "display_data"
    }
   ],
   "source": [
    "\n",
    "plt.rcParams[\"figure.figsize\"]=6,6\n",
    "\n",
    "y_pred = model.predict(X_test_norm)\n",
    "\n",
    "\n",
    "fig = plt.figure()\n",
    "for i in range(8,17):\n",
    "  plt.subplot(3,3,i+1 - 8)\n",
    "  plt.tight_layout()\n",
    "  plt.imshow(X_test[i], cmap='hot', interpolation='none')\n",
    "  plt.title(\"Pred: {} True: {}\".format(np.argmax(y_pred[i]), y_test[i]))\n",
    "  plt.xticks([])\n",
    "  plt.yticks([])"
   ]
  },
  {
   "cell_type": "markdown",
   "metadata": {},
   "source": [
    "# What's in our neurons?\n",
    "\n",
    "One of the reasons we only have 5 neurons on our hidden layer is so we can more easily see what causes each neuron to activate. High pixels in green areas increase activation, high pixels in red areas decrease activation and yellow areas mostly ignore pixel values."
   ]
  },
  {
   "cell_type": "code",
   "execution_count": 47,
   "metadata": {},
   "outputs": [
    {
     "data": {
      "image/png": "[encoded data removed]",
      "text/plain": [
       "<Figure size 1008x1008 with 5 Axes>"
      ]
     },
     "metadata": {},
     "output_type": "display_data"
    }
   ],
   "source": [
    "plt.rcParams[\"figure.figsize\"]=14,14\n",
    "\n",
    "activations = np.swapaxes(np.asarray(model.get_layer(\"1\").get_weights()[0]), 0, 1)\n",
    "\n",
    "fig = plt.figure()\n",
    "for i in range(0,activations.shape[0]):\n",
    "  plt.subplot(int(activations.shape[0]/5) + 1,5,i+1)\n",
    "  plt.tight_layout()\n",
    "  plt.imshow(activations[i].reshape(28,28), cmap='RdYlGn', interpolation='none')\n",
    "  plt.title(\"Node: {}\".format(i))\n",
    "  plt.xticks([])\n",
    "  plt.yticks([])"
   ]
  },
  {
   "cell_type": "code",
   "execution_count": 48,
   "metadata": {},
   "outputs": [],
   "source": [
    "plt.rcParams[\"figure.figsize\"]=6,6"
   ]
  },
  {
   "cell_type": "markdown",
   "metadata": {},
   "source": [
    "Here we can see the how each node (from left to right) effects each digit. Higher numbers increase the effect of a neuron activation."
   ]
  },
  {
   "cell_type": "code",
   "execution_count": 53,
   "metadata": {},
   "outputs": [
    {
     "name": "stdout",
     "output_type": "stream",
     "text": [
      "0 [-0.8668645  -0.69800293  0.36803287 -0.05012259  0.78275126]\n",
      "1 [ 0.18074645  0.7965324  -0.65832543  0.343635   -1.41585   ]\n",
      "2 [-0.57120854 -0.02869474 -0.70479715  0.9858328   0.13281853]\n",
      "3 [-0.36775228 -0.03418361  0.7427493   0.52253294 -0.9863929 ]\n",
      "4 [ 0.7890222   0.09735291 -0.75590783 -1.8578933   0.31392336]\n",
      "5 [-0.82120615  0.27550712  0.79771185 -0.50885886 -0.20392814]\n",
      "6 [-0.92425084  0.63395554 -1.1399703  -0.34676716  0.64325994]\n",
      "7 [ 0.93219215 -1.586543    0.02706223  0.3183136   0.12509437]\n",
      "8 [-0.17980325  0.5214894   0.1646747   0.03076231 -0.0790197 ]\n",
      "9 [ 0.7539536  -0.34872767  0.06231643 -0.41582894  0.14163491]\n"
     ]
    }
   ],
   "source": [
    "activations = np.swapaxes(np.asarray(model.get_layer(\"classification\").get_weights()[0]), 0, 1)\n",
    "for digit, weights in enumerate(activations):\n",
    "    print(digit, weights)"
   ]
  },
  {
   "cell_type": "code",
   "execution_count": null,
   "metadata": {},
   "outputs": [],
   "source": []
  }
 ],
 "metadata": {
  "kernelspec": {
   "display_name": "Python 3",
   "language": "python",
   "name": "python3"
  },
  "language_info": {
   "codemirror_mode": {
    "name": "ipython",
    "version": 3
   },
   "file_extension": ".py",
   "mimetype": "text/x-python",
   "name": "python",
   "nbconvert_exporter": "python",
   "pygments_lexer": "ipython3",
   "version": "3.6.9"
  }
 },
 "nbformat": 4,
 "nbformat_minor": 2
}
